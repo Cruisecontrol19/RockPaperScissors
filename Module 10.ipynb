{
 "cells": [
  {
   "cell_type": "code",
   "execution_count": null,
   "id": "ea50fc2d",
   "metadata": {},
   "outputs": [],
   "source": []
  },
  {
   "cell_type": "code",
   "execution_count": 5,
   "id": "e984e979",
   "metadata": {},
   "outputs": [
    {
     "name": "stdout",
     "output_type": "stream",
     "text": [
      "r for Rock, p for Paper, or s for Scissors r\n",
      "UserChoice is r ComputerChoice is r\n",
      "It's a draw\n",
      "Wanna play again? y\n",
      "r for Rock, p for Paper, or s for Scissors r\n",
      "UserChoice is r ComputerChoice is p\n",
      "Computer Wins!\n",
      "Wanna play again? y\n",
      "r for Rock, p for Paper, or s for Scissors r\n",
      "UserChoice is r ComputerChoice is r\n",
      "It's a draw\n",
      "Wanna play again? y\n",
      "r for Rock, p for Paper, or s for Scissors r\n",
      "UserChoice is r ComputerChoice is r\n",
      "It's a draw\n",
      "Wanna play again? y\n",
      "r for Rock, p for Paper, or s for Scissors p\n",
      "UserChoice is p ComputerChoice is p\n",
      "It's a draw\n",
      "Wanna play again? y\n",
      "r for Rock, p for Paper, or s for Scissors p\n",
      "UserChoice is p ComputerChoice is p\n",
      "It's a draw\n",
      "Wanna play again? y\n",
      "r for Rock, p for Paper, or s for Scissors p\n",
      "UserChoice is p ComputerChoice is p\n",
      "It's a draw\n",
      "Wanna play again? y\n",
      "r for Rock, p for Paper, or s for Scissors p\n",
      "UserChoice is p ComputerChoice is s\n",
      "Computer Wins!\n",
      "Wanna play again? y\n",
      "r for Rock, p for Paper, or s for Scissors p\n",
      "UserChoice is p ComputerChoice is s\n",
      "Computer Wins!\n",
      "Wanna play again? y\n",
      "r for Rock, p for Paper, or s for Scissors s\n",
      "UserChoice is s ComputerChoice is s\n",
      "It's a draw\n",
      "Wanna play again? y\n",
      "r for Rock, p for Paper, or s for Scissors s\n",
      "UserChoice is s ComputerChoice is r\n",
      "Computer Wins!\n",
      "Wanna play again? y\n",
      "r for Rock, p for Paper, or s for Scissors s\n",
      "UserChoice is s ComputerChoice is s\n",
      "It's a draw\n",
      "Wanna play again? y\n",
      "r for Rock, p for Paper, or s for Scissors s\n",
      "UserChoice is s ComputerChoice is s\n",
      "It's a draw\n",
      "Wanna play again? y\n",
      "r for Rock, p for Paper, or s for Scissors s\n",
      "UserChoice is s ComputerChoice is r\n",
      "Computer Wins!\n",
      "Wanna play again? n\n"
     ]
    }
   ],
   "source": [
    "import random\n",
    "response = \"y\"\n",
    "choices=['Rock', 'Paper', 'Scissors']\n",
    "choices=['r', 'p', 's']\n",
    "while response == \"y\": \n",
    "    UserChoice = input('r for Rock, p for Paper, or s for Scissors ')\n",
    "    ComputerChoice = choices[random.randint(0,2)]\n",
    "    print('UserChoice is', UserChoice, 'ComputerChoice is', ComputerChoice)\n",
    "    if UserChoice == ComputerChoice:\n",
    "        print(\"It's a draw\")\n",
    "    else:\n",
    "        if (UserChoice == 'r' and ComputerChoice == 's') or (UserChoice == 's' and ComputerChoice == 'p') or  (UserChoice == 'p' and ComputerChoice == 'r'):\n",
    "            print(\"User Wins!\") \n",
    "        else:\n",
    "            if (UserChoice == 'r' and ComputerChoice == 'p') or (UserChoice == 'p' and ComputerChoice == 's') or (UserChoice == 's' and ComputerChoice == 'r'):\n",
    "                print(\"Computer Wins!\") \n",
    "            else:\n",
    "                print(\"something's wrong with this program\")\n",
    "    response = input('Wanna play again? ')\n",
    "#End while "
   ]
  },
  {
   "cell_type": "code",
   "execution_count": null,
   "id": "f4c48840",
   "metadata": {},
   "outputs": [],
   "source": []
  },
  {
   "cell_type": "code",
   "execution_count": null,
   "id": "4986365c",
   "metadata": {},
   "outputs": [],
   "source": []
  }
 ],
 "metadata": {
  "kernelspec": {
   "display_name": "Python 3 (ipykernel)",
   "language": "python",
   "name": "python3"
  },
  "language_info": {
   "codemirror_mode": {
    "name": "ipython",
    "version": 3
   },
   "file_extension": ".py",
   "mimetype": "text/x-python",
   "name": "python",
   "nbconvert_exporter": "python",
   "pygments_lexer": "ipython3",
   "version": "3.9.7"
  }
 },
 "nbformat": 4,
 "nbformat_minor": 5
}
